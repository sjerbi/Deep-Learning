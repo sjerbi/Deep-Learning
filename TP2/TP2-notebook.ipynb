{
 "cells": [
  {
   "cell_type": "markdown",
   "metadata": {},
   "source": [
    "<h1 style=\"text-align:center\">Deep Learning   </h1>\n",
    "<h1 style=\"text-align:center\"> Lab Session 2 - 3 Hours </h1>\n",
    "<h1 style=\"text-align:center\"> Convolutional Neural Network (CNN) for Handwritten Digits Recognition</h1>"
   ]
  },
  {
   "cell_type": "markdown",
   "metadata": {},
   "source": [
    "<b> Student 1:</b> Sofiene Jerbi \n",
    " \n",
    " \n",
    "The aim of this session is to practice with Convolutional Neural Networks. Answers and experiments should be made by groups of one or two students. Each group should fill and run appropriate notebook cells. \n",
    "\n",
    "\n",
    "Once you have completed all of the code implementations and successfully answered each question above, you may finalize your work by exporting the iPython Notebook as an pdf document using print as PDF (Ctrl+P). Do not forget to run all your cells before generating your final report and do not forget to include the names of all participants in the group. The lab session should be completed by May 29th 2017.\n",
    "\n",
    "Send you pdf file to benoit.huet@eurecom.fr and olfa.ben-ahmed@eurecom.fr using **[DeepLearning_lab2]** as Subject of your email."
   ]
  },
  {
   "cell_type": "markdown",
   "metadata": {},
   "source": [
    "# Introduction"
   ]
  },
  {
   "cell_type": "markdown",
   "metadata": {},
   "source": [
    "In the last Lab Session, you built a Multilayer Perceptron for recognizing hand-written digits from the MNIST data-set. The best achieved accuracy on testing data was about 97%.  Can  you do better than these results using a deep CNN ?\n",
    "In this Lab Session, you will build, train and optimize in TensorFlow one of the early Convolutional Neural Networks:  **LeNet-5** to go to  more than 99% of accuracy. \n",
    "\n",
    "\n",
    "\n",
    "\n"
   ]
  },
  {
   "cell_type": "markdown",
   "metadata": {},
   "source": [
    "# Load MNIST Data in TensorFlow\n",
    "Run the cell above to load the MNIST data that comes  with TensorFlow. You will use this data in **Section 1** and **Section 2**."
   ]
  },
  {
   "cell_type": "code",
   "execution_count": 1,
   "metadata": {},
   "outputs": [
    {
     "name": "stdout",
     "output_type": "stream",
     "text": [
      "Extracting MNIST_data/train-images-idx3-ubyte.gz\n",
      "Extracting MNIST_data/train-labels-idx1-ubyte.gz\n",
      "Extracting MNIST_data/t10k-images-idx3-ubyte.gz\n",
      "Extracting MNIST_data/t10k-labels-idx1-ubyte.gz\n",
      "Image Shape: (784,)\n",
      "Training Set:   55000 samples\n",
      "Validation Set: 5000 samples\n",
      "Test Set:       10000 samples\n"
     ]
    }
   ],
   "source": [
    "import tensorflow as tf\n",
    "from tensorflow.examples.tutorials.mnist import input_data\n",
    "mnist = input_data.read_data_sets(\"MNIST_data/\", one_hot=True)\n",
    "X_train, y_train           = mnist.train.images, mnist.train.labels\n",
    "X_validation, y_validation = mnist.validation.images, mnist.validation.labels\n",
    "X_test, y_test             = mnist.test.images, mnist.test.labels\n",
    "print(\"Image Shape: {}\".format(X_train[0].shape))\n",
    "print(\"Training Set:   {} samples\".format(len(X_train)))\n",
    "print(\"Validation Set: {} samples\".format(len(X_validation)))\n",
    "print(\"Test Set:       {} samples\".format(len(X_test)))"
   ]
  },
  {
   "cell_type": "markdown",
   "metadata": {},
   "source": [
    "# Section 1 : My First Model in TensorFlow"
   ]
  },
  {
   "cell_type": "markdown",
   "metadata": {
    "collapsed": true
   },
   "source": [
    "Before starting with CNN, let's train and test in TensorFlow the example :\n",
    "**y=softmax(Wx+b)** seen in the DeepLearing course last week. \n",
    "\n",
    "This model reaches an accuracy of about 92 %.\n",
    "You will also learn how to launch the tensorBoard https://www.tensorflow.org/get_started/summaries_and_tensorboard to  visualize the computation graph, statistics and learning curves. "
   ]
  },
  {
   "cell_type": "markdown",
   "metadata": {},
   "source": [
    "<b> Part 1 </b> : Read carefully the code in the cell below. Run it to perform training. "
   ]
  },
  {
   "cell_type": "code",
   "execution_count": 2,
   "metadata": {},
   "outputs": [
    {
     "name": "stdout",
     "output_type": "stream",
     "text": [
      "Epoch:  01   =====> Loss= 1.286880516\n",
      "Epoch:  02   =====> Loss= 0.731935138\n",
      "Epoch:  03   =====> Loss= 0.600087293\n",
      "Epoch:  04   =====> Loss= 0.536595575\n",
      "Epoch:  05   =====> Loss= 0.497583865\n",
      "Epoch:  06   =====> Loss= 0.471118211\n",
      "Epoch:  07   =====> Loss= 0.451284961\n",
      "Epoch:  08   =====> Loss= 0.435826128\n",
      "Epoch:  09   =====> Loss= 0.423237018\n",
      "Epoch:  10   =====> Loss= 0.413191887\n",
      "Epoch:  11   =====> Loss= 0.404301464\n",
      "Epoch:  12   =====> Loss= 0.396685983\n",
      "Epoch:  13   =====> Loss= 0.390345196\n",
      "Epoch:  14   =====> Loss= 0.384366291\n",
      "Epoch:  15   =====> Loss= 0.379075426\n",
      "Epoch:  16   =====> Loss= 0.374457767\n",
      "Epoch:  17   =====> Loss= 0.370298153\n",
      "Epoch:  18   =====> Loss= 0.366349395\n",
      "Epoch:  19   =====> Loss= 0.363021322\n",
      "Epoch:  20   =====> Loss= 0.359405888\n",
      "Epoch:  21   =====> Loss= 0.356634224\n",
      "Epoch:  22   =====> Loss= 0.353953617\n",
      "Epoch:  23   =====> Loss= 0.351337360\n",
      "Epoch:  24   =====> Loss= 0.348519755\n",
      "Epoch:  25   =====> Loss= 0.346385461\n",
      "Epoch:  26   =====> Loss= 0.344147922\n",
      "Epoch:  27   =====> Loss= 0.342274432\n",
      "Epoch:  28   =====> Loss= 0.340460419\n",
      "Epoch:  29   =====> Loss= 0.338291559\n",
      "Epoch:  30   =====> Loss= 0.336717768\n",
      "Epoch:  31   =====> Loss= 0.334957561\n",
      "Epoch:  32   =====> Loss= 0.333224993\n",
      "Epoch:  33   =====> Loss= 0.332109854\n",
      "Epoch:  34   =====> Loss= 0.330602574\n",
      "Epoch:  35   =====> Loss= 0.329096714\n",
      "Epoch:  36   =====> Loss= 0.327487422\n",
      "Epoch:  37   =====> Loss= 0.326335563\n",
      "Epoch:  38   =====> Loss= 0.325326298\n",
      "Epoch:  39   =====> Loss= 0.324337772\n",
      "Epoch:  40   =====> Loss= 0.323034117\n",
      "Epoch:  41   =====> Loss= 0.321741484\n",
      "Epoch:  42   =====> Loss= 0.320967023\n",
      "Epoch:  43   =====> Loss= 0.320004324\n",
      "Epoch:  44   =====> Loss= 0.318874341\n",
      "Epoch:  45   =====> Loss= 0.317840827\n",
      "Epoch:  46   =====> Loss= 0.316753561\n",
      "Epoch:  47   =====> Loss= 0.316094517\n",
      "Epoch:  48   =====> Loss= 0.315376098\n",
      "Epoch:  49   =====> Loss= 0.314237537\n",
      "Epoch:  50   =====> Loss= 0.313606572\n",
      "Epoch:  51   =====> Loss= 0.312727793\n",
      "Epoch:  52   =====> Loss= 0.312323817\n",
      "Epoch:  53   =====> Loss= 0.311455045\n",
      "Epoch:  54   =====> Loss= 0.310471629\n",
      "Epoch:  55   =====> Loss= 0.309999790\n",
      "Epoch:  56   =====> Loss= 0.309333011\n",
      "Epoch:  57   =====> Loss= 0.308579979\n",
      "Epoch:  58   =====> Loss= 0.308111550\n",
      "Epoch:  59   =====> Loss= 0.307004378\n",
      "Epoch:  60   =====> Loss= 0.306770415\n",
      "Epoch:  61   =====> Loss= 0.306351947\n",
      "Epoch:  62   =====> Loss= 0.305644147\n",
      "Epoch:  63   =====> Loss= 0.305100559\n",
      "Epoch:  64   =====> Loss= 0.304212520\n",
      "Epoch:  65   =====> Loss= 0.304097393\n",
      "Epoch:  66   =====> Loss= 0.303247741\n",
      "Epoch:  67   =====> Loss= 0.302861805\n",
      "Epoch:  68   =====> Loss= 0.302195784\n",
      "Epoch:  69   =====> Loss= 0.301731664\n",
      "Epoch:  70   =====> Loss= 0.301131797\n",
      "Epoch:  71   =====> Loss= 0.300988282\n",
      "Epoch:  72   =====> Loss= 0.300377518\n",
      "Epoch:  73   =====> Loss= 0.300026636\n",
      "Epoch:  74   =====> Loss= 0.299495686\n",
      "Epoch:  75   =====> Loss= 0.298893366\n",
      "Epoch:  76   =====> Loss= 0.298563705\n",
      "Epoch:  77   =====> Loss= 0.298101432\n",
      "Epoch:  78   =====> Loss= 0.297882539\n",
      "Epoch:  79   =====> Loss= 0.297202785\n",
      "Epoch:  80   =====> Loss= 0.296804053\n",
      "Epoch:  81   =====> Loss= 0.296338048\n",
      "Epoch:  82   =====> Loss= 0.296016949\n",
      "Epoch:  83   =====> Loss= 0.295725127\n",
      "Epoch:  84   =====> Loss= 0.295510158\n",
      "Epoch:  85   =====> Loss= 0.294788248\n",
      "Epoch:  86   =====> Loss= 0.294502434\n",
      "Epoch:  87   =====> Loss= 0.294273335\n",
      "Epoch:  88   =====> Loss= 0.293654532\n",
      "Epoch:  89   =====> Loss= 0.293403858\n",
      "Epoch:  90   =====> Loss= 0.292925803\n",
      "Epoch:  91   =====> Loss= 0.292715266\n",
      "Epoch:  92   =====> Loss= 0.292384265\n",
      "Epoch:  93   =====> Loss= 0.292004094\n",
      "Epoch:  94   =====> Loss= 0.291906941\n",
      "Epoch:  95   =====> Loss= 0.291267684\n",
      "Epoch:  96   =====> Loss= 0.291257095\n",
      "Epoch:  97   =====> Loss= 0.290811745\n",
      "Epoch:  98   =====> Loss= 0.290831424\n",
      "Epoch:  99   =====> Loss= 0.290203090\n",
      "Epoch:  100   =====> Loss= 0.290146119\n",
      "Optimization Finished!\n",
      "Accuracy: 0.9202\n"
     ]
    }
   ],
   "source": [
    "from __future__ import print_function\n",
    "import tensorflow as tf\n",
    "\n",
    "\n",
    "#STEP 1\n",
    "\n",
    "# Parameters\n",
    "learning_rate = 0.01\n",
    "training_epochs = 100\n",
    "batch_size = 128\n",
    "display_step = 1\n",
    "logs_path = 'log_files/'  # useful for tensorboard\n",
    "\n",
    "# tf Graph Input:  mnist data image of shape 28*28=784\n",
    "x = tf.placeholder(tf.float32, [None, 784], name='InputData')\n",
    "# 0-9 digits recognition,  10 classes\n",
    "y = tf.placeholder(tf.float32, [None, 10], name='LabelData')\n",
    "\n",
    "# Set model weights\n",
    "W = tf.Variable(tf.zeros([784, 10]), name='Weights')\n",
    "b = tf.Variable(tf.zeros([10]), name='Bias')\n",
    "\n",
    "# Construct model and encapsulating all ops into scopes, making Tensorboard's Graph visualization more convenient\n",
    "with tf.name_scope('Model'):\n",
    "    # Model\n",
    "    pred = tf.nn.softmax(tf.matmul(x, W) + b) # Softmax\n",
    "with tf.name_scope('Loss'):\n",
    "    # Minimize error using cross entropy\n",
    "    cost = tf.reduce_mean(-tf.reduce_sum(y*tf.log(pred), reduction_indices=1))\n",
    "with tf.name_scope('SGD'):\n",
    "    # Gradient Descent\n",
    "    optimizer = tf.train.GradientDescentOptimizer(learning_rate).minimize(cost)\n",
    "with tf.name_scope('Accuracy'):\n",
    "    # Accuracy\n",
    "    acc = tf.equal(tf.argmax(pred, 1), tf.argmax(y, 1))\n",
    "    acc = tf.reduce_mean(tf.cast(acc, tf.float32))\n",
    "\n",
    "# Initializing the variables\n",
    "init = tf.global_variables_initializer()\n",
    "# Create a summary to monitor cost tensor\n",
    "tf.summary.scalar(\"Loss\", cost)\n",
    "# Create a summary to monitor accuracy tensor\n",
    "tf.summary.scalar(\"Accuracy\", acc)\n",
    "# Merge all summaries into a single op\n",
    "merged_summary_op = tf.summary.merge_all()\n",
    "\n",
    "\n",
    "#STEP 2 \n",
    "\n",
    "\n",
    "# Launch the graph for training\n",
    "with tf.Session() as sess:\n",
    "    sess.run(init)\n",
    "    # op to write logs to Tensorboard\n",
    "    summary_writer = tf.summary.FileWriter(logs_path, graph=tf.get_default_graph())\n",
    "    # Training cycle\n",
    "    for epoch in range(training_epochs):\n",
    "        avg_cost = 0.\n",
    "        total_batch = int(mnist.train.num_examples/batch_size)\n",
    "        # Loop over all batches\n",
    "        for i in range(total_batch):\n",
    "            batch_xs, batch_ys = mnist.train.next_batch(batch_size)\n",
    "            # Run optimization op (backprop), cost op (to get loss value)\n",
    "            # and summary nodes\n",
    "            _, c, summary = sess.run([optimizer, cost, merged_summary_op],\n",
    "                                     feed_dict={x: batch_xs, y: batch_ys})\n",
    "            # Write logs at every iteration\n",
    "            summary_writer.add_summary(summary, epoch * total_batch + i)\n",
    "            # Compute average loss\n",
    "            avg_cost += c / total_batch\n",
    "        # Display logs per epoch step\n",
    "        if (epoch+1) % display_step == 0:\n",
    "            print(\"Epoch: \", '%02d' % (epoch+1), \"  =====> Loss=\", \"{:.9f}\".format(avg_cost))\n",
    "\n",
    "    print(\"Optimization Finished!\")\n",
    "\n",
    "    # Test model\n",
    "    # Calculate accuracy\n",
    "    print(\"Accuracy:\", acc.eval({x: mnist.test.images, y: mnist.test.labels}))\n",
    "\n",
    "\n"
   ]
  },
  {
   "cell_type": "markdown",
   "metadata": {},
   "source": [
    "<b> Part 2  </b>: Using Tensorboard, we can  now visualize the created graph, giving you an overview of your architecture and how all of the major components  are connected. You can also see and analyse the learning curves. \n",
    "\n",
    "To launch tensorBoard: \n",
    "- Go to the **TP2** folder, \n",
    "- Open a Terminal and run the command line **\"tensorboard --logdir=log_files/\"**, it will generate an http link ,ex http://666.6.6.6:6006,\n",
    "- Copy this  link into your web browser \n",
    "\n",
    "\n",
    "Enjoy It !! \n"
   ]
  },
  {
   "cell_type": "markdown",
   "metadata": {},
   "source": [
    "# Section 2 : The 99% MNIST Challenge !"
   ]
  },
  {
   "cell_type": "markdown",
   "metadata": {},
   "source": [
    "<b> Part 1 </b> : LeNet5 implementation"
   ]
  },
  {
   "cell_type": "markdown",
   "metadata": {},
   "source": [
    "One you are now familar with **tensorFlow** and **tensorBoard**, you are in this section to build, train and test the baseline [LeNet-5](http://yann.lecun.com/exdb/lenet/)  model for the MNIST digits recognition problem.  \n",
    "\n",
    "In more advanced step you will make some optimizations to get more than 99% of accuracy. The best model can get to over 99.7% accuracy! \n",
    "\n",
    "For more information, have a look at this list of results : http://rodrigob.github.io/are_we_there_yet/build/classification_datasets_results.html"
   ]
  },
  {
   "cell_type": "markdown",
   "metadata": {},
   "source": [
    "\n",
    "<img src=\"lenet.png\",width=\"800\" height=\"600\" align=\"center\">\n",
    "<center><span>Figure 1: Lenet 5 </span></center>\n",
    "\n",
    "\n",
    "\n",
    "\n",
    "\n",
    "The LeNet architecture accepts a 32x32xC image as input, where C is the number of color channels. Since MNIST images are grayscale, C is 1 in this case.\n",
    "\n",
    "--------------------------\n",
    "**Layer 1: Convolutional.** The output shape should be 28x28x6 **Activation.** sigmoid **Pooling.** The output shape should be 14x14x6.\n",
    "\n",
    "**Layer 2: Convolutional.** The output shape should be 10x10x16. **Activation.** sigmoid **Pooling.** The output shape should be 5x5x16.\n",
    "\n",
    "**Flatten.** Flatten the output shape of the final pooling layer such that it's 1D instead of 3D.  You may need to use **flatten*  from tensorflow.contrib.layers import flatten\n",
    "\n",
    "**Layer 3: Fully Connected.** This should have 120 outputs. **Activation.** sigmoid\n",
    "\n",
    "**Layer 4: Fully Connected.** This should have 84 outputs. **Activation.** sigmoid\n",
    "\n",
    "**Layer 5: Fully Connected.** This should have 10 outputs. **Activation.** softmax\n"
   ]
  },
  {
   "cell_type": "markdown",
   "metadata": {},
   "source": [
    "<b> Question 2.1.1 </b>  Implement the Neural Network architecture described above.\n",
    "For that, your will use classes and functions from  https://www.tensorflow.org/api_docs/python/tf/nn. \n",
    "\n",
    "We give you some helper functions for weigths and bias initilization. Also you can refer to section 1. \n"
   ]
  },
  {
   "cell_type": "code",
   "execution_count": 2,
   "metadata": {
    "collapsed": true
   },
   "outputs": [],
   "source": [
    "import tensorflow as tf\n",
    "\n",
    "#Helper functions  for weigths and bias initilization \n",
    "def weight_variable(shape):\n",
    "  initial = tf.truncated_normal(shape, stddev=0.1)\n",
    "  return tf.Variable(initial, name='Weights')\n",
    "\n",
    "def bias_variable(shape):\n",
    "  initial = tf.constant(0.1, shape=shape)\n",
    "  return tf.Variable(initial, name='Bias')"
   ]
  },
  {
   "cell_type": "code",
   "execution_count": 3,
   "metadata": {
    "collapsed": true
   },
   "outputs": [],
   "source": [
    "# tf Graph Input:  mnist data image of shape 28*28=784\n",
    "x = tf.placeholder(tf.float32, [None, 784], name='InputData')\n",
    "# 0-9 digits recognition,  10 classes\n",
    "y = tf.placeholder(tf.float32, [None, 10], name='LabelData')"
   ]
  },
  {
   "cell_type": "code",
   "execution_count": 14,
   "metadata": {
    "collapsed": true
   },
   "outputs": [],
   "source": [
    "from tensorflow.contrib.layers import flatten\n",
    "\n",
    "def LeNet5_Model(data):\n",
    "    data = tf.reshape(data, [-1, 28, 28, 1])\n",
    "    # Set layer1 weights\n",
    "    W_layer1 = weight_variable([5, 5, 1, 6])\n",
    "    b_layer1 = bias_variable([6])\n",
    "    \n",
    "    # Set layer2 weights\n",
    "    W_layer2 = weight_variable([5, 5, 6, 16])\n",
    "    b_layer2 = bias_variable([16])\n",
    "    \n",
    "    # Set layer3 weights\n",
    "    W_layer3 = weight_variable([400,120])\n",
    "    b_layer3 = bias_variable([120])\n",
    "    \n",
    "    # Set layer4 weights\n",
    "    W_layer4 = weight_variable([120,84])\n",
    "    b_layer4 = bias_variable([84])\n",
    "    \n",
    "    # Set layer5 weights\n",
    "    W_layer5 = weight_variable([84,10])\n",
    "    b_layer5 = bias_variable([10])\n",
    "\n",
    "    # Construct model\n",
    "    layer1 = tf.nn.sigmoid(tf.nn.conv2d(data, W_layer1, [1, 1, 1, 1], padding='SAME') + b_layer1)\n",
    "    pooling1 = tf.nn.max_pool(layer1, ksize=[1, 2, 2, 1], strides=[1, 2, 2, 1], padding='VALID')\n",
    "    layer2 = tf.nn.sigmoid(tf.nn.conv2d(pooling1, W_layer2, [1, 1, 1, 1], padding='VALID') + b_layer2)\n",
    "    pooling2 = tf.nn.max_pool(layer2, ksize=[1, 2, 2, 1], strides=[1, 2, 2, 1], padding='VALID')\n",
    "    flattened = tf.contrib.layers.flatten(pooling2)\n",
    "    layer3 = tf.nn.sigmoid(tf.matmul(flattened, W_layer3) + b_layer3)\n",
    "    layer4 = tf.nn.sigmoid(tf.matmul(layer3, W_layer4) + b_layer4)\n",
    "    \n",
    "    with tf.name_scope('Model'):\n",
    "        # Model\n",
    "        model = tf.nn.softmax(tf.matmul(layer4, W_layer5) + b_layer5) # Softmax\n",
    "    return model\n",
    "\n",
    "model = LeNet5_Model(x)"
   ]
  },
  {
   "cell_type": "markdown",
   "metadata": {},
   "source": [
    "<b> Question 2.1.2. </b>  Calculate the number of parameters of this model "
   ]
  },
  {
   "cell_type": "markdown",
   "metadata": {
    "collapsed": true
   },
   "source": [
    "<b>- For convolutional layers:</b><br>\n",
    "    weights = filter_height \\* filter_width \\* input_channels \\* output_channels<br>\n",
    "    biases = output_channels<br>\n",
    "<b>- For pooling:</b><br>\n",
    "    pooling = 0 because no weights or biases<br>\n",
    "<b>- For fully connected layers:</b><br>\n",
    "    weights = input * output<br>\n",
    "    biases = output<br>\n",
    "\n",
    "<b>#layer1</b><br>\n",
    "weights = 5 * 5 * 1 * 6 = 150<br>\n",
    "biases = 6<br>\n",
    "pooling = 0<br>\n",
    "\n",
    "<b>#layer2</b><br>\n",
    "weights = 5 * 5 * 6 * 16 = 900<br>\n",
    "biases = 16<br>\n",
    "pooling = 0<br>\n",
    "\n",
    "<b>#layer3</b><br>\n",
    "weights = 400 * 120 = 48 000<br>\n",
    "biases = 120<br>\n",
    "\n",
    "<b>#layer4</b><br>\n",
    "weights = 120 * 84 = 10 080<br>\n",
    "biases = 84<br>\n",
    "\n",
    "<b>#layer5</b><br>\n",
    "weights = 84 * 10 = 840<br>\n",
    "biases = 10<br>\n",
    "\n",
    "<b>Total number of parameters:</b> 60 206"
   ]
  },
  {
   "cell_type": "markdown",
   "metadata": {},
   "source": [
    "<b> Question 2.1.3. </b>  Start the training with the parameters cited below:\n",
    "\n",
    "     Learning rate =0.1\n",
    "     Loss Fucntion : Cross entropy\n",
    "     Optimisateur: SGD\n",
    "     Number of training iterations= 10000\n",
    "     The batch size =128"
   ]
  },
  {
   "cell_type": "code",
   "execution_count": 54,
   "metadata": {
    "collapsed": true
   },
   "outputs": [],
   "source": [
    "# Training parameters \n",
    "learning_rate = 0.1\n",
    "training_epochs = 1000\n",
    "batch_size = 128\n",
    "display_step = 100\n",
    "logs_path = 'log_files/'  # useful for tensorboard\n",
    "saving_path = 'models/'\n",
    "with tf.name_scope('Loss'):\n",
    "    # Minimize error using cross entropy\n",
    "    cost = tf.reduce_mean(-tf.reduce_sum(y*tf.log(model), reduction_indices=1))\n",
    "with tf.name_scope('SGD'):\n",
    "    # Gradient Descent\n",
    "    optimizer = tf.train.GradientDescentOptimizer(learning_rate).minimize(cost)"
   ]
  },
  {
   "cell_type": "markdown",
   "metadata": {},
   "source": [
    "<b> Question 2.1.4. </b>  Implement the evaluation function for accuracy computation "
   ]
  },
  {
   "cell_type": "code",
   "execution_count": 4,
   "metadata": {
    "collapsed": true
   },
   "outputs": [],
   "source": [
    "def evaluate(model, y):\n",
    "    acc = tf.equal(tf.argmax(model, 1), tf.argmax(y, 1))\n",
    "    accuracy = tf.reduce_mean(tf.cast(acc, tf.float32))\n",
    "    return accuracy"
   ]
  },
  {
   "cell_type": "code",
   "execution_count": null,
   "metadata": {
    "collapsed": true
   },
   "outputs": [],
   "source": [
    "with tf.name_scope('Accuracy'):\n",
    "    # Accuracy\n",
    "    accuracy = evaluate(model, y)"
   ]
  },
  {
   "cell_type": "markdown",
   "metadata": {},
   "source": [
    "<b> Question 2.1.5. </b>  Implement training pipeline and run the training data through it to train the model.\n",
    "\n",
    "- Before each epoch, shuffle the training set. \n",
    "- Print the loss per mini batch and the training/validation accuracy per epoch. (Display results every 100 epochs)\n",
    "- Save the model after training\n",
    "- Print after training the final testing accuracy \n",
    "\n"
   ]
  },
  {
   "cell_type": "code",
   "execution_count": null,
   "metadata": {
    "collapsed": true
   },
   "outputs": [],
   "source": [
    "# Initializing the variables\n",
    "init = tf.global_variables_initializer()\n",
    "# Create a summary to monitor cost tensor\n",
    "tf.summary.scalar(\"Loss\", cost)\n",
    "# Create a summary to monitor accuracy tensor\n",
    "tf.summary.scalar(\"Accuracy\", accuracy)\n",
    "# Merge all summaries into a single op\n",
    "merged_summary_op = tf.summary.merge_all()"
   ]
  },
  {
   "cell_type": "code",
   "execution_count": 13,
   "metadata": {
    "collapsed": true
   },
   "outputs": [],
   "source": [
    "import time\n",
    "\n",
    "def train(learning_rate, training_epochs, batch_size, cost, optimizer):\n",
    "    # Initializing the session \n",
    "    with tf.Session() as sess:\n",
    "        sess.run(init)\n",
    "        # op to write logs to Tensorboard\n",
    "        summary_writer = tf.summary.FileWriter(logs_path, graph=tf.get_default_graph())\n",
    "        # Add ops to save and restore all the variables.\n",
    "        saver = tf.train.Saver()\n",
    "        \n",
    "        print (\"Start Training!\")\n",
    "        \n",
    "        # Training cycle\n",
    "        for epoch in range(training_epochs):\n",
    "            avg_cost = 0.\n",
    "            total_batch = int(mnist.train.num_examples/batch_size)\n",
    "            # Loop over all batches\n",
    "            for i in range(total_batch):\n",
    "                batch_xs, batch_ys = mnist.train.next_batch(batch_size)\n",
    "                # Run optimization op (backprop), cost op (to get loss value)\n",
    "                # and summary nodes\n",
    "                _, c, summary = sess.run([optimizer, cost, merged_summary_op], feed_dict={x: batch_xs, y: batch_ys})\n",
    "                # Write logs at every iteration\n",
    "                summary_writer.add_summary(summary, epoch * total_batch + i)\n",
    "                # Compute average loss\n",
    "                avg_cost += c / total_batch\n",
    "            # Display logs per epoch step\n",
    "            if (epoch+1) % display_step == 0:\n",
    "                print(\"Epoch: \", '%02d' % (epoch+1), \"  =====> Loss=\", \"{:.9f}\".format(avg_cost), \"  Validation Accuracy=\", \"{:.9f}\".format(accuracy.eval(feed_dict={x: mnist.validation.images, y: mnist.validation.labels})), \"  Test Accuracy=\", \"{:.9f}\".format(accuracy.eval(feed_dict={x: mnist.test.images, y: mnist.test.labels})))\n",
    "\n",
    "        print (\"Training Finished!\")\n",
    "        save_path = saver.save(sess, saving_path+\"/model\"+str(int(time.time())))\n",
    "        print(\"Model saved in file: %s\" % save_path)\n",
    "        print(\"Final accuracy:\", accuracy.eval(feed_dict={x: mnist.test.images, y: mnist.test.labels}))"
   ]
  },
  {
   "cell_type": "code",
   "execution_count": 55,
   "metadata": {
    "scrolled": false
   },
   "outputs": [
    {
     "name": "stdout",
     "output_type": "stream",
     "text": [
      "Start Training!\n",
      "Epoch:  100   =====> Loss= 0.051045185   Accuracy= 0.981999993\n",
      "Epoch:  200   =====> Loss= 0.017796859   Accuracy= 0.989199996\n",
      "Epoch:  300   =====> Loss= 0.007578073   Accuracy= 0.988600016\n",
      "Epoch:  400   =====> Loss= 0.004146392   Accuracy= 0.988600016\n",
      "Epoch:  500   =====> Loss= 0.002333913   Accuracy= 0.988399982\n",
      "Epoch:  600   =====> Loss= 0.001403212   Accuracy= 0.988900006\n",
      "Epoch:  700   =====> Loss= 0.000972731   Accuracy= 0.988699973\n",
      "Epoch:  800   =====> Loss= 0.000746378   Accuracy= 0.988900006\n",
      "Epoch:  900   =====> Loss= 0.000604468   Accuracy= 0.988799989\n",
      "Epoch:  1000   =====> Loss= 0.000467924   Accuracy= 0.989000022\n",
      "Training Finished!\n",
      "Model saved in file: models//model1495575909\n",
      "Final accuracy: 0.989\n"
     ]
    }
   ],
   "source": [
    "#Launch training\n",
    "train(learning_rate, training_epochs, batch_size, cost, optimizer)"
   ]
  },
  {
   "cell_type": "code",
   "execution_count": 37,
   "metadata": {
    "scrolled": false
   },
   "outputs": [
    {
     "data": {
      "text/plain": [
       "(['  def next_batch(self, batch_size, fake_data=False):\\n',\n",
       "  '    \"\"\"Return the next `batch_size` examples from this data set.\"\"\"\\n',\n",
       "  '    if fake_data:\\n',\n",
       "  '      fake_image = [1] * 784\\n',\n",
       "  '      if self.one_hot:\\n',\n",
       "  '        fake_label = [1] + [0] * 9\\n',\n",
       "  '      else:\\n',\n",
       "  '        fake_label = 0\\n',\n",
       "  '      return [fake_image for _ in xrange(batch_size)], [\\n',\n",
       "  '          fake_label for _ in xrange(batch_size)\\n',\n",
       "  '      ]\\n',\n",
       "  '    start = self._index_in_epoch\\n',\n",
       "  '    self._index_in_epoch += batch_size\\n',\n",
       "  '    if self._index_in_epoch > self._num_examples:\\n',\n",
       "  '      # Finished epoch\\n',\n",
       "  '      self._epochs_completed += 1\\n',\n",
       "  '      # Shuffle the data\\n',\n",
       "  '      perm = numpy.arange(self._num_examples)\\n',\n",
       "  '      numpy.random.shuffle(perm)\\n',\n",
       "  '      self._images = self._images[perm]\\n',\n",
       "  '      self._labels = self._labels[perm]\\n',\n",
       "  '      # Start next epoch\\n',\n",
       "  '      start = 0\\n',\n",
       "  '      self._index_in_epoch = batch_size\\n',\n",
       "  '      assert batch_size <= self._num_examples\\n',\n",
       "  '    end = self._index_in_epoch\\n',\n",
       "  '    return self._images[start:end], self._labels[start:end]\\n'],\n",
       " 160)"
      ]
     },
     "execution_count": 37,
     "metadata": {},
     "output_type": "execute_result"
    }
   ],
   "source": [
    "import inspect\n",
    "\n",
    "inspect.getsourcelines(tf.contrib.learn.datasets.mnist.DataSet.next_batch) "
   ]
  },
  {
   "cell_type": "markdown",
   "metadata": {},
   "source": [
    "<b> Question 2.1.6 </b> : Use tensorBoard to visualise and save the LeNet5 Graph and all learning curves. \n",
    "Save all obtained figures in the folder **\"TP2/MNIST_99_Challenge_Figures\"**"
   ]
  },
  {
   "cell_type": "markdown",
   "metadata": {
    "collapsed": true
   },
   "source": [
    "<img src=\"MNIST_99_Challenge_Figures/Accuracy_2.png\",width=\"800\" height=\"600\" align=\"center\">\n",
    "<img src=\"MNIST_99_Challenge_Figures/Loss_2.png\",width=\"800\" height=\"600\" align=\"center\">\n",
    "<img src=\"MNIST_99_Challenge_Figures/Graph_2.png\",align=\"center\">"
   ]
  },
  {
   "cell_type": "markdown",
   "metadata": {
    "collapsed": true
   },
   "source": [
    "We train our model for 1000 epochs with a batch size of 128 and we successfully get a final test accuracy of 98.9%. What we also see is that we got that result since the epoch 200, meaning that these many epochs are unecessary, and because they take so much time, we will rather train our models with only 100 epochs from now on."
   ]
  },
  {
   "cell_type": "markdown",
   "metadata": {},
   "source": [
    "<b> Part 2 </b> : LeNET 5 Optimization"
   ]
  },
  {
   "cell_type": "markdown",
   "metadata": {},
   "source": [
    "\n",
    "<b> Question 2.2.1 </b>  Change the sigmoid function with a Relu :\n",
    "\n",
    "- Retrain your network with SGD and AdamOptimizer and then fill the table above  :\n",
    "\n",
    "\n",
    "| Optimizer            |  Gradient Descent         |AdamOptimizer |\n",
    "| -------------        |: -------------: | ---------:   \n",
    "| Validation Accuracy  |   0.990400016   |  0.097599998  |      \n",
    "| Testing Accuracy     | 0.990599990          |  0.103200004  |       \n",
    "| Training Time        |  1.03min/epoch         |   1.21min/epoch     |  |  \n",
    "\n",
    "\n",
    "- Try with different learning rates for each Optimizer (0.0001 and 0.001 ) and different Batch sizes (50 and 128) for 20000 Epochs. \n",
    "\n",
    "- For each optimizer, plot (on the same curve) the **testing accuracies** function to **(learning rate, batch size)** \n",
    "\n",
    "\n",
    "\n",
    "- Did you reach the 99% accuracy ? What are the optimal parametres that gave you the best results? \n",
    "\n",
    "\n",
    "\n",
    "\n",
    "\n",
    "\n"
   ]
  },
  {
   "cell_type": "code",
   "execution_count": 14,
   "metadata": {},
   "outputs": [
    {
     "name": "stdout",
     "output_type": "stream",
     "text": [
      "***Training with SGD***\n",
      "Start Training!\n",
      "Epoch:  10   =====> Loss= 0.023872270   Validation Accuracy= 0.988799989   Test Accuracy= 0.987999976\n",
      "Epoch:  20   =====> Loss= 0.007036820   Validation Accuracy= 0.990800023   Test Accuracy= 0.989000022\n",
      "Epoch:  30   =====> Loss= 0.001859246   Validation Accuracy= 0.990599990   Test Accuracy= 0.990300000\n",
      "Epoch:  40   =====> Loss= 0.000462042   Validation Accuracy= 0.990599990   Test Accuracy= 0.990300000\n",
      "Epoch:  50   =====> Loss= 0.000115001   Validation Accuracy= 0.990400016   Test Accuracy= 0.990599990\n",
      "Epoch:  60   =====> Loss= 0.000081626   Validation Accuracy= 0.990199983   Test Accuracy= 0.990700006\n",
      "Epoch:  70   =====> Loss= 0.000061326   Validation Accuracy= 0.990199983   Test Accuracy= 0.990700006\n",
      "Epoch:  80   =====> Loss= 0.000049109   Validation Accuracy= 0.989799976   Test Accuracy= 0.990400016\n",
      "Epoch:  90   =====> Loss= 0.000041476   Validation Accuracy= 0.990000010   Test Accuracy= 0.990499973\n",
      "Epoch:  100   =====> Loss= 0.000035297   Validation Accuracy= 0.989600003   Test Accuracy= 0.990100026\n",
      "Training Finished!\n",
      "Model saved in file: models//model1496069984\n",
      "Final accuracy: 0.9901\n",
      "Time taken:  6165.006519079208\n",
      "***Training with Adam***\n",
      "Start Training!\n",
      "Epoch:  10   =====> Loss= 16.607530040   Validation Accuracy= 0.097599998   Test Accuracy= 0.103200004\n",
      "Epoch:  20   =====> Loss= 16.594782669   Validation Accuracy= 0.097599998   Test Accuracy= 0.103200004\n",
      "Epoch:  30   =====> Loss= 16.580357972   Validation Accuracy= 0.097599998   Test Accuracy= 0.103200004\n",
      "Epoch:  40   =====> Loss= 16.596459964   Validation Accuracy= 0.097599998   Test Accuracy= 0.103200004\n",
      "Epoch:  50   =====> Loss= 16.577003392   Validation Accuracy= 0.097599998   Test Accuracy= 0.103200004\n",
      "Epoch:  60   =====> Loss= 16.594447196   Validation Accuracy= 0.097599998   Test Accuracy= 0.103200004\n",
      "Epoch:  70   =====> Loss= 16.578009790   Validation Accuracy= 0.097599998   Test Accuracy= 0.103200004\n",
      "Epoch:  80   =====> Loss= 16.610549164   Validation Accuracy= 0.097599998   Test Accuracy= 0.103200004\n",
      "Epoch:  90   =====> Loss= 16.585054380   Validation Accuracy= 0.097599998   Test Accuracy= 0.103200004\n",
      "Epoch:  100   =====> Loss= 16.596459947   Validation Accuracy= 0.097599998   Test Accuracy= 0.103200004\n",
      "Training Finished!\n",
      "Model saved in file: models//model1496077225\n",
      "Final accuracy: 0.1032\n",
      "Time taken:  7239.271738767624\n"
     ]
    }
   ],
   "source": [
    "from tensorflow.contrib.layers import flatten\n",
    "import time\n",
    "\n",
    "def LeNet5_Model_Relu(data):\n",
    "    data = tf.reshape(data, [-1, 28, 28, 1])\n",
    "    # Set layer1 weights\n",
    "    W_layer1 = weight_variable([5, 5, 1, 6])\n",
    "    b_layer1 = bias_variable([6])\n",
    "    \n",
    "    # Set layer2 weights\n",
    "    W_layer2 = weight_variable([5, 5, 6, 16])\n",
    "    b_layer2 = bias_variable([16])\n",
    "    \n",
    "    # Set layer3 weights\n",
    "    W_layer3 = weight_variable([400,120])\n",
    "    b_layer3 = bias_variable([120])\n",
    "    \n",
    "    # Set layer4 weights\n",
    "    W_layer4 = weight_variable([120,84])\n",
    "    b_layer4 = bias_variable([84])\n",
    "    \n",
    "    # Set layer5 weights\n",
    "    W_layer5 = weight_variable([84,10])\n",
    "    b_layer5 = bias_variable([10])\n",
    "\n",
    "    # Construct model\n",
    "    layer1 = tf.nn.relu(tf.nn.conv2d(data, W_layer1, [1, 1, 1, 1], padding='SAME') + b_layer1)\n",
    "    pooling1 = tf.nn.max_pool(layer1, ksize=[1, 2, 2, 1], strides=[1, 2, 2, 1], padding='VALID')\n",
    "    layer2 = tf.nn.relu(tf.nn.conv2d(pooling1, W_layer2, [1, 1, 1, 1], padding='VALID') + b_layer2)\n",
    "    pooling2 = tf.nn.max_pool(layer2, ksize=[1, 2, 2, 1], strides=[1, 2, 2, 1], padding='VALID')\n",
    "    flattened = tf.contrib.layers.flatten(pooling2)\n",
    "    layer3 = tf.nn.relu(tf.matmul(flattened, W_layer3) + b_layer3)\n",
    "    layer4 = tf.nn.relu(tf.matmul(layer3, W_layer4) + b_layer4)\n",
    "    \n",
    "    with tf.name_scope('Model'):\n",
    "        # Model\n",
    "        model = tf.nn.softmax(tf.matmul(layer4, W_layer5) + b_layer5) # Softmax\n",
    "    return model\n",
    "\n",
    "model_relu = LeNet5_Model_Relu(x)\n",
    "\n",
    "# Training parameters \n",
    "learning_rate = 0.1\n",
    "training_epochs = 100\n",
    "batch_size = 128\n",
    "display_step = 10\n",
    "logs_path = 'log_files/'  # useful for tensorboard\n",
    "saving_path = 'models/'\n",
    "with tf.name_scope('Loss'):\n",
    "    # Minimize error using cross entropy\n",
    "    cost = tf.reduce_mean(-tf.reduce_sum(y*tf.log(model_relu+1e-8), reduction_indices=1))\n",
    "with tf.name_scope('Accuracy'):\n",
    "    # Accuracy\n",
    "    accuracy = evaluate(model_relu, y)\n",
    "with tf.name_scope('SGD'):\n",
    "    # Gradient Descent\n",
    "    optimizer = tf.train.GradientDescentOptimizer(learning_rate).minimize(cost)\n",
    "\n",
    "# Initializing the variables\n",
    "init = tf.global_variables_initializer()\n",
    "# Create a summary to monitor cost tensor\n",
    "tf.summary.scalar(\"Loss\", cost)\n",
    "# Create a summary to monitor accuracy tensor\n",
    "tf.summary.scalar(\"Accuracy\", accuracy)\n",
    "# Merge all summaries into a single op\n",
    "merged_summary_op = tf.summary.merge_all()    \n",
    "\n",
    "print(\"***Training with SGD***\")\n",
    "t0 = time.time()\n",
    "train(learning_rate, training_epochs, batch_size, cost, optimizer)\n",
    "print(\"Time taken: \",time.time()-t0)\n",
    "\n",
    "model_relu = LeNet5_Model_Relu(x)\n",
    "with tf.name_scope('Loss'):\n",
    "    # Minimize error using cross entropy\n",
    "    cost = tf.reduce_mean(-tf.reduce_sum(y*tf.log(model_relu+1e-8), reduction_indices=1))\n",
    "with tf.name_scope('Accuracy'):\n",
    "    # Accuracy\n",
    "    accuracy = evaluate(model_relu, y)\n",
    "with tf.name_scope('Adam'):\n",
    "    # Adam Optimizer\n",
    "    optimizer = tf.train.AdamOptimizer(learning_rate).minimize(cost)\n",
    "\n",
    "# Initializing the variables\n",
    "init = tf.global_variables_initializer()\n",
    "# Create a summary to monitor cost tensor\n",
    "tf.summary.scalar(\"Loss\", cost)\n",
    "# Create a summary to monitor accuracy tensor\n",
    "tf.summary.scalar(\"Accuracy\", accuracy)\n",
    "# Merge all summaries into a single op\n",
    "merged_summary_op = tf.summary.merge_all()    \n",
    "\n",
    "print(\"***Training with Adam***\")\n",
    "t0 = time.time()\n",
    "train(learning_rate, training_epochs, batch_size, cost, optimizer)\n",
    "print(\"Time taken: \",time.time()-t0)"
   ]
  },
  {
   "cell_type": "code",
   "execution_count": 15,
   "metadata": {
    "scrolled": false
   },
   "outputs": [
    {
     "name": "stdout",
     "output_type": "stream",
     "text": [
      "***Training with SGD 0.0001 50***\n",
      "Start Training!\n",
      "Epoch:  10   =====> Loss= 2.183650568   Validation Accuracy= 0.403400004   Test Accuracy= 0.399899989\n",
      "Epoch:  20   =====> Loss= 1.381050881   Validation Accuracy= 0.751600027   Test Accuracy= 0.757000029\n",
      "Epoch:  30   =====> Loss= 0.542827971   Validation Accuracy= 0.869400024   Test Accuracy= 0.869099975\n",
      "Epoch:  40   =====> Loss= 0.399499516   Validation Accuracy= 0.892199993   Test Accuracy= 0.894599974\n",
      "Epoch:  50   =====> Loss= 0.342217829   Validation Accuracy= 0.906400025   Test Accuracy= 0.903599977\n",
      "Epoch:  60   =====> Loss= 0.305464724   Validation Accuracy= 0.913999975   Test Accuracy= 0.912999988\n",
      "Epoch:  70   =====> Loss= 0.280051400   Validation Accuracy= 0.921800017   Test Accuracy= 0.920799971\n",
      "Epoch:  80   =====> Loss= 0.263080859   Validation Accuracy= 0.927399993   Test Accuracy= 0.927399993\n",
      "Epoch:  90   =====> Loss= 0.242744129   Validation Accuracy= 0.932200015   Test Accuracy= 0.932900012\n",
      "Epoch:  100   =====> Loss= 0.229166657   Validation Accuracy= 0.936200023   Test Accuracy= 0.937200010\n",
      "Training Finished!\n",
      "Model saved in file: models//model1496088882\n",
      "Final accuracy: 0.9372\n",
      "Time taken:  8206.934541463852\n",
      "***Training with Adam 0.0001 50***\n",
      "Start Training!\n",
      "Epoch:  10   =====> Loss= 0.055596082   Validation Accuracy= 0.982999980   Test Accuracy= 0.984499991\n",
      "Epoch:  20   =====> Loss= 0.029967740   Validation Accuracy= 0.987600029   Test Accuracy= 0.987999976\n",
      "Epoch:  30   =====> Loss= 0.017176215   Validation Accuracy= 0.989199996   Test Accuracy= 0.988900006\n",
      "Epoch:  40   =====> Loss= 0.010373591   Validation Accuracy= 0.987399995   Test Accuracy= 0.989499986\n",
      "Epoch:  50   =====> Loss= 0.006242598   Validation Accuracy= 0.989799976   Test Accuracy= 0.989600003\n",
      "Epoch:  60   =====> Loss= 0.003290361   Validation Accuracy= 0.990000010   Test Accuracy= 0.990199983\n",
      "Epoch:  70   =====> Loss= 0.001932718   Validation Accuracy= 0.990000010   Test Accuracy= 0.989899993\n",
      "Epoch:  80   =====> Loss= 0.003126191   Validation Accuracy= 0.989799976   Test Accuracy= 0.989199996\n",
      "Epoch:  90   =====> Loss= 0.001873693   Validation Accuracy= 0.991999984   Test Accuracy= 0.989700019\n",
      "Epoch:  100   =====> Loss= 0.003075307   Validation Accuracy= 0.990999997   Test Accuracy= 0.990400016\n",
      "Training Finished!\n",
      "Model saved in file: models//model1496098599\n",
      "Final accuracy: 0.9904\n",
      "Time taken:  9717.333002567291\n",
      "***Training with SGD 0.0001 128***\n",
      "Start Training!\n",
      "Epoch:  10   =====> Loss= 2.267960256   Validation Accuracy= 0.190400004   Test Accuracy= 0.186199993\n",
      "Epoch:  20   =====> Loss= 2.189814518   Validation Accuracy= 0.348399997   Test Accuracy= 0.348300010\n",
      "Epoch:  30   =====> Loss= 2.030172196   Validation Accuracy= 0.421000004   Test Accuracy= 0.436899990\n",
      "Epoch:  40   =====> Loss= 1.665928499   Validation Accuracy= 0.552600026   Test Accuracy= 0.569299996\n",
      "Epoch:  50   =====> Loss= 1.150159707   Validation Accuracy= 0.707799971   Test Accuracy= 0.721000016\n",
      "Epoch:  60   =====> Loss= 0.790583456   Validation Accuracy= 0.787400007   Test Accuracy= 0.799600005\n",
      "Epoch:  70   =====> Loss= 0.611063011   Validation Accuracy= 0.837199986   Test Accuracy= 0.841499984\n",
      "Epoch:  80   =====> Loss= 0.510257417   Validation Accuracy= 0.863399982   Test Accuracy= 0.864600003\n",
      "Epoch:  90   =====> Loss= 0.454865207   Validation Accuracy= 0.879000008   Test Accuracy= 0.882399976\n",
      "Epoch:  100   =====> Loss= 0.412661143   Validation Accuracy= 0.889199972   Test Accuracy= 0.890999973\n",
      "Training Finished!\n",
      "Model saved in file: models//model1496108736\n",
      "Final accuracy: 0.891\n",
      "Time taken:  10137.226004362106\n",
      "***Training with Adam 0.0001 128***\n",
      "Start Training!\n",
      "Epoch:  10   =====> Loss= 0.100005356   Validation Accuracy= 0.973399997   Test Accuracy= 0.972700000\n",
      "Epoch:  20   =====> Loss= 0.057597964   Validation Accuracy= 0.984000027   Test Accuracy= 0.982500017\n",
      "Epoch:  30   =====> Loss= 0.039821176   Validation Accuracy= 0.986800015   Test Accuracy= 0.984700024\n",
      "Epoch:  40   =====> Loss= 0.029607774   Validation Accuracy= 0.987200022   Test Accuracy= 0.985899985\n",
      "Epoch:  50   =====> Loss= 0.021551693   Validation Accuracy= 0.989199996   Test Accuracy= 0.987900019\n",
      "Epoch:  60   =====> Loss= 0.015574807   Validation Accuracy= 0.990999997   Test Accuracy= 0.988099992\n",
      "Epoch:  70   =====> Loss= 0.011117515   Validation Accuracy= 0.989600003   Test Accuracy= 0.988099992\n",
      "Epoch:  80   =====> Loss= 0.008883428   Validation Accuracy= 0.987800002   Test Accuracy= 0.988200009\n",
      "Epoch:  90   =====> Loss= 0.005667544   Validation Accuracy= 0.990199983   Test Accuracy= 0.988200009\n",
      "Epoch:  100   =====> Loss= 0.004586646   Validation Accuracy= 0.988799989   Test Accuracy= 0.988300025\n",
      "Training Finished!\n",
      "Model saved in file: models//model1496119874\n",
      "Final accuracy: 0.9883\n",
      "Time taken:  11141.78365445137\n",
      "***Training with SGD 0.001 50***\n",
      "Start Training!\n",
      "Epoch:  10   =====> Loss= 0.247223169   Validation Accuracy= 0.933200002   Test Accuracy= 0.932099998\n",
      "Epoch:  20   =====> Loss= 0.156832987   Validation Accuracy= 0.958000004   Test Accuracy= 0.959200025\n",
      "Epoch:  30   =====> Loss= 0.115406103   Validation Accuracy= 0.969799995   Test Accuracy= 0.967999995\n",
      "Epoch:  40   =====> Loss= 0.093579785   Validation Accuracy= 0.971800029   Test Accuracy= 0.972000003\n",
      "Epoch:  50   =====> Loss= 0.077916296   Validation Accuracy= 0.975600004   Test Accuracy= 0.976499975\n",
      "Epoch:  60   =====> Loss= 0.069986910   Validation Accuracy= 0.978799999   Test Accuracy= 0.975199997\n",
      "Epoch:  70   =====> Loss= 0.062621944   Validation Accuracy= 0.979200006   Test Accuracy= 0.978600025\n",
      "Epoch:  80   =====> Loss= 0.056059621   Validation Accuracy= 0.980199993   Test Accuracy= 0.981199980\n",
      "Epoch:  90   =====> Loss= 0.052101222   Validation Accuracy= 0.982200027   Test Accuracy= 0.981299996\n",
      "Epoch:  100   =====> Loss= 0.047704714   Validation Accuracy= 0.983600020   Test Accuracy= 0.981299996\n",
      "Training Finished!\n",
      "Model saved in file: models//model1496133271\n",
      "Final accuracy: 0.9813\n",
      "Time taken:  13395.553267717361\n",
      "***Training with Adam 0.001 50***\n",
      "Start Training!\n",
      "Epoch:  10   =====> Loss= 0.014787138   Validation Accuracy= 0.989600003   Test Accuracy= 0.988499999\n",
      "Epoch:  20   =====> Loss= 0.007054455   Validation Accuracy= 0.991999984   Test Accuracy= 0.989700019\n",
      "Epoch:  30   =====> Loss= 0.005388132   Validation Accuracy= 0.990000010   Test Accuracy= 0.990700006\n",
      "Epoch:  40   =====> Loss= 0.001798739   Validation Accuracy= 0.989000022   Test Accuracy= 0.987800002\n",
      "Epoch:  50   =====> Loss= 0.004623877   Validation Accuracy= 0.991199970   Test Accuracy= 0.989400029\n",
      "Epoch:  60   =====> Loss= 0.004163758   Validation Accuracy= 0.991599977   Test Accuracy= 0.989499986\n",
      "Epoch:  70   =====> Loss= 0.003301584   Validation Accuracy= 0.991199970   Test Accuracy= 0.990199983\n",
      "Epoch:  80   =====> Loss= 0.004037532   Validation Accuracy= 0.991199970   Test Accuracy= 0.989099979\n",
      "Epoch:  90   =====> Loss= 0.003264156   Validation Accuracy= 0.990400016   Test Accuracy= 0.987299979\n",
      "Epoch:  100   =====> Loss= 0.004765530   Validation Accuracy= 0.991199970   Test Accuracy= 0.990000010\n",
      "Training Finished!\n",
      "Model saved in file: models//model1496145918\n",
      "Final accuracy: 0.99\n",
      "Time taken:  12647.262574911118\n",
      "***Training with SGD 0.001 128***\n",
      "Start Training!\n",
      "Epoch:  10   =====> Loss= 0.437160588   Validation Accuracy= 0.883599997   Test Accuracy= 0.891600013\n",
      "Epoch:  20   =====> Loss= 0.271313700   Validation Accuracy= 0.925800025   Test Accuracy= 0.925999999\n",
      "Epoch:  30   =====> Loss= 0.209158655   Validation Accuracy= 0.943400025   Test Accuracy= 0.942499995\n",
      "Epoch:  40   =====> Loss= 0.171743240   Validation Accuracy= 0.956799984   Test Accuracy= 0.953599989\n",
      "Epoch:  50   =====> Loss= 0.142268099   Validation Accuracy= 0.963800013   Test Accuracy= 0.961600006\n",
      "Epoch:  60   =====> Loss= 0.121133098   Validation Accuracy= 0.967000008   Test Accuracy= 0.966199994\n",
      "Epoch:  70   =====> Loss= 0.107532560   Validation Accuracy= 0.969200015   Test Accuracy= 0.968599975\n",
      "Epoch:  80   =====> Loss= 0.096601427   Validation Accuracy= 0.972199976   Test Accuracy= 0.972400010\n",
      "Epoch:  90   =====> Loss= 0.089484734   Validation Accuracy= 0.975000024   Test Accuracy= 0.973900020\n",
      "Epoch:  100   =====> Loss= 0.082230644   Validation Accuracy= 0.975799978   Test Accuracy= 0.976300001\n",
      "Training Finished!\n"
     ]
    },
    {
     "name": "stdout",
     "output_type": "stream",
     "text": [
      "Model saved in file: models//model1496159956\n",
      "Final accuracy: 0.9763\n",
      "Time taken:  14039.092363834381\n",
      "***Training with Adam 0.001 128***\n"
     ]
    }
   ],
   "source": [
    "learning_rates = [0.0001, 0.001]\n",
    "batch_sizes = [50, 128]\n",
    "training_epochs = 100\n",
    "batch_size = 128\n",
    "display_step = 10\n",
    "logs_path = 'log_files/'  # useful for tensorboard\n",
    "saving_path = 'models/'\n",
    "\n",
    "for learning_rate in learning_rates:\n",
    "    for batch_size in batch_sizes:\n",
    "        model_relu = LeNet5_Model_Relu(x)\n",
    "        with tf.name_scope('Loss'):\n",
    "            # Minimize error using cross entropy\n",
    "            cost = tf.reduce_mean(-tf.reduce_sum(y*tf.log(model_relu+1e-8), reduction_indices=1))\n",
    "        with tf.name_scope('Accuracy'):\n",
    "            # Accuracy\n",
    "            accuracy = evaluate(model_relu, y)\n",
    "        with tf.name_scope('SGD'):\n",
    "            # Gradient Descent\n",
    "            optimizer = tf.train.GradientDescentOptimizer(learning_rate).minimize(cost)\n",
    "\n",
    "        # Initializing the variables\n",
    "        init = tf.global_variables_initializer()\n",
    "        # Create a summary to monitor cost tensor\n",
    "        tf.summary.scalar(\"Loss\", cost)\n",
    "        # Create a summary to monitor accuracy tensor\n",
    "        tf.summary.scalar(\"Accuracy\", accuracy)\n",
    "        # Merge all summaries into a single op\n",
    "        merged_summary_op = tf.summary.merge_all()    \n",
    "\n",
    "        print(\"***Training with SGD \"+str(learning_rate)+\" \"+str(batch_size)+\"***\")\n",
    "        t0 = time.time()\n",
    "        train(learning_rate, training_epochs, batch_size, cost, optimizer)\n",
    "        print(\"Time taken: \",time.time()-t0)\n",
    "        \n",
    "        model_relu = LeNet5_Model_Relu(x)\n",
    "        with tf.name_scope('Loss'):\n",
    "            # Minimize error using cross entropy\n",
    "            cost = tf.reduce_mean(-tf.reduce_sum(y*tf.log(model_relu+1e-8), reduction_indices=1))\n",
    "        with tf.name_scope('Accuracy'):\n",
    "            # Accuracy\n",
    "            accuracy = evaluate(model_relu, y)\n",
    "        with tf.name_scope('Adam'):\n",
    "            # Adam Optimizer\n",
    "            optimizer = tf.train.AdamOptimizer(learning_rate).minimize(cost)\n",
    "\n",
    "        # Initializing the variables\n",
    "        init = tf.global_variables_initializer()\n",
    "        # Create a summary to monitor cost tensor\n",
    "        tf.summary.scalar(\"Loss\", cost)\n",
    "        # Create a summary to monitor accuracy tensor\n",
    "        tf.summary.scalar(\"Accuracy\", accuracy)\n",
    "        # Merge all summaries into a single op\n",
    "        merged_summary_op = tf.summary.merge_all()    \n",
    "\n",
    "        print(\"***Training with Adam \"+str(learning_rate)+\" \"+str(batch_size)+\"***\")\n",
    "        t0 = time.time()\n",
    "        train(learning_rate, training_epochs, batch_size, cost, optimizer)\n",
    "        print(\"Time taken: \",time.time()-t0)"
   ]
  },
  {
   "cell_type": "code",
   "execution_count": 17,
   "metadata": {},
   "outputs": [
    {
     "data": {
      "image/png": "[encoded data removed]",
      "text/plain": [
       "<matplotlib.figure.Figure at 0x32305a2160>"
      ]
     },
     "metadata": {},
     "output_type": "display_data"
    }
   ],
   "source": [
    "import itertools\n",
    "import matplotlib.pyplot as plt\n",
    "\n",
    "testing_accuracies_SGD = [0.937200010, 0.890999973, 0.981299996, 0.976300001]\n",
    "testing_accuracies_Adam = [0.990400016, 0.988300025, 0.990700006, 0.990800023]\n",
    "params = list(itertools.product(learning_rates, batch_sizes))\n",
    "idx = list(range(len(params)))\n",
    "\n",
    "p1=plt.plot(idx,testing_accuracies_SGD)\n",
    "p2=plt.plot(idx,testing_accuracies_Adam)\n",
    "plt.xticks(idx, params)\n",
    "plt.legend([\"SGD\", \"Adam\"])\n",
    "plt.xlabel(\"(learning_rate, batch_size)\")\n",
    "plt.ylabel(\"Testing accuracy\")\n",
    "plt.title(\"Testing accuracy with different training parameters and optimizers\")\n",
    "plt.show()"
   ]
  },
  {
   "cell_type": "markdown",
   "metadata": {},
   "source": [
    "We finally reach our 99% of accuracy with several sets of parameters. The one we got the best result with is:\n",
    "- Learning rate: 0.001\n",
    "- Batch size: 128\n",
    "- Optimizer: Adam\n",
    "with 99.08% of test accuracy."
   ]
  },
  {
   "cell_type": "markdown",
   "metadata": {},
   "source": [
    "<b> Question 2.2.2 </b>  What about applying a dropout layer on the Fully conntected layer and then retraining the model with the best Optimizer and parameters(Learning rate and Batch size) obtained in *Question 2.2.1*  ? (probability to keep units=0.75). For this stage ensure that the keep prob is set to 1.0 to evaluate the \n",
    "performance of the network including all nodes."
   ]
  },
  {
   "cell_type": "code",
   "execution_count": 11,
   "metadata": {
    "scrolled": false
   },
   "outputs": [
    {
     "name": "stdout",
     "output_type": "stream",
     "text": [
      "***Training with optimal paramiters***\n",
      "Start Training!\n",
      "Epoch:  01   =====> Loss= 0.469975067   Accuracy= 0.956900001\n",
      "Epoch:  02   =====> Loss= 0.124659879   Accuracy= 0.974500000\n",
      "Epoch:  03   =====> Loss= 0.086438573   Accuracy= 0.975799978\n",
      "Epoch:  04   =====> Loss= 0.071557593   Accuracy= 0.981700003\n",
      "Epoch:  05   =====> Loss= 0.059307722   Accuracy= 0.982599974\n",
      "Epoch:  06   =====> Loss= 0.052442966   Accuracy= 0.985700011\n",
      "Epoch:  07   =====> Loss= 0.048454356   Accuracy= 0.984399974\n",
      "Epoch:  08   =====> Loss= 0.040807218   Accuracy= 0.985899985\n",
      "Epoch:  09   =====> Loss= 0.035818005   Accuracy= 0.987500012\n",
      "Epoch:  10   =====> Loss= 0.034113269   Accuracy= 0.986500025\n",
      "Epoch:  11   =====> Loss= 0.032113095   Accuracy= 0.985899985\n",
      "Epoch:  12   =====> Loss= 0.029398655   Accuracy= 0.986500025\n",
      "Epoch:  13   =====> Loss= 0.027292354   Accuracy= 0.987699986\n",
      "Epoch:  14   =====> Loss= 0.027313543   Accuracy= 0.986899972\n",
      "Epoch:  15   =====> Loss= 0.023507383   Accuracy= 0.988900006\n",
      "Epoch:  16   =====> Loss= 0.022867691   Accuracy= 0.986599982\n",
      "Epoch:  17   =====> Loss= 0.020869639   Accuracy= 0.988099992\n",
      "Epoch:  18   =====> Loss= 0.018762498   Accuracy= 0.986699998\n",
      "Epoch:  19   =====> Loss= 0.019554815   Accuracy= 0.988699973\n",
      "Epoch:  20   =====> Loss= 0.019994466   Accuracy= 0.989199996\n",
      "Epoch:  21   =====> Loss= 0.017179678   Accuracy= 0.990800023\n",
      "Epoch:  22   =====> Loss= 0.014795903   Accuracy= 0.988200009\n",
      "Epoch:  23   =====> Loss= 0.015618181   Accuracy= 0.988399982\n",
      "Epoch:  24   =====> Loss= 0.016106847   Accuracy= 0.989600003\n",
      "Epoch:  25   =====> Loss= 0.014001186   Accuracy= 0.989700019\n",
      "Epoch:  26   =====> Loss= 0.015313651   Accuracy= 0.990300000\n",
      "Epoch:  27   =====> Loss= 0.012131293   Accuracy= 0.989700019\n",
      "Epoch:  28   =====> Loss= 0.012936561   Accuracy= 0.987699986\n",
      "Epoch:  29   =====> Loss= 0.014276776   Accuracy= 0.986500025\n",
      "Epoch:  30   =====> Loss= 0.012777669   Accuracy= 0.988300025\n",
      "Epoch:  31   =====> Loss= 0.012943432   Accuracy= 0.990100026\n",
      "Epoch:  32   =====> Loss= 0.010959325   Accuracy= 0.990599990\n",
      "Epoch:  33   =====> Loss= 0.011657129   Accuracy= 0.989499986\n",
      "Epoch:  34   =====> Loss= 0.010827916   Accuracy= 0.988699973\n",
      "Epoch:  35   =====> Loss= 0.011319958   Accuracy= 0.989400029\n",
      "Epoch:  36   =====> Loss= 0.011001677   Accuracy= 0.988900006\n",
      "Epoch:  37   =====> Loss= 0.011529827   Accuracy= 0.988900006\n",
      "Epoch:  38   =====> Loss= 0.008749400   Accuracy= 0.989199996\n",
      "Epoch:  39   =====> Loss= 0.011033263   Accuracy= 0.989199996\n",
      "Epoch:  40   =====> Loss= 0.009633611   Accuracy= 0.987900019\n",
      "Epoch:  41   =====> Loss= 0.009153600   Accuracy= 0.989700019\n",
      "Epoch:  42   =====> Loss= 0.009808642   Accuracy= 0.990100026\n",
      "Epoch:  43   =====> Loss= 0.008143535   Accuracy= 0.989000022\n",
      "Epoch:  44   =====> Loss= 0.007101719   Accuracy= 0.989600003\n",
      "Epoch:  45   =====> Loss= 0.009696418   Accuracy= 0.989300013\n",
      "Epoch:  46   =====> Loss= 0.007799965   Accuracy= 0.988699973\n",
      "Epoch:  47   =====> Loss= 0.009555947   Accuracy= 0.988799989\n",
      "Epoch:  48   =====> Loss= 0.008459764   Accuracy= 0.989700019\n",
      "Epoch:  49   =====> Loss= 0.008612395   Accuracy= 0.989300013\n",
      "Epoch:  50   =====> Loss= 0.006646191   Accuracy= 0.989899993\n",
      "Epoch:  51   =====> Loss= 0.007647246   Accuracy= 0.991100013\n"
     ]
    }
   ],
   "source": [
    "# from tensorflow.contrib.layers import flatten\n",
    "import time\n",
    "\n",
    "def LeNet5_Model_Relu_Drop(data):\n",
    "    data = tf.reshape(data, [-1, 28, 28, 1])\n",
    "    # Set layer1 weights\n",
    "    W_layer1 = weight_variable([5, 5, 1, 6])\n",
    "    b_layer1 = bias_variable([6])\n",
    "    \n",
    "    # Set layer2 weights\n",
    "    W_layer2 = weight_variable([5, 5, 6, 16])\n",
    "    b_layer2 = bias_variable([16])\n",
    "    \n",
    "    # Set layer3 weights\n",
    "    W_layer3 = weight_variable([400,120])\n",
    "    b_layer3 = bias_variable([120])\n",
    "    \n",
    "    # Set layer4 weights\n",
    "    W_layer4 = weight_variable([120,84])\n",
    "    b_layer4 = bias_variable([84])\n",
    "    \n",
    "    # Set layer5 weights\n",
    "    W_layer5 = weight_variable([84,10])\n",
    "    b_layer5 = bias_variable([10])\n",
    "\n",
    "    # Construct model\n",
    "    layer1 = tf.nn.relu(tf.nn.conv2d(data, W_layer1, [1, 1, 1, 1], padding='SAME') + b_layer1)\n",
    "    pooling1 = tf.nn.max_pool(layer1, ksize=[1, 2, 2, 1], strides=[1, 2, 2, 1], padding='VALID')\n",
    "    layer2 = tf.nn.relu(tf.nn.conv2d(pooling1, W_layer2, [1, 1, 1, 1], padding='VALID') + b_layer2)\n",
    "    pooling2 = tf.nn.max_pool(layer2, ksize=[1, 2, 2, 1], strides=[1, 2, 2, 1], padding='VALID')\n",
    "    flattened = tf.contrib.layers.flatten(pooling2)\n",
    "    keep_prob = 0.75\n",
    "    layer3 = tf.nn.relu(tf.matmul(flattened, W_layer3) + b_layer3)\n",
    "    layer3_drop = tf.nn.dropout(layer3, keep_prob)\n",
    "    layer4 = tf.nn.relu(tf.matmul(layer3_drop, W_layer4) + b_layer4)\n",
    "    layer4_drop = tf.nn.dropout(layer4, keep_prob)\n",
    "    \n",
    "    with tf.name_scope('Model'):\n",
    "        # Model\n",
    "        model = tf.nn.softmax(tf.matmul(layer4_drop, W_layer5) + b_layer5) # Softmax\n",
    "    return model\n",
    "\n",
    "model_relu_drop = LeNet5_Model_Relu_Drop(x)\n",
    "\n",
    "# Training parameters \n",
    "learning_rate = 0.001\n",
    "training_epochs = 50\n",
    "batch_size = 128\n",
    "display_step = 1\n",
    "logs_path = 'log_files/'  # useful for tensorboard\n",
    "saving_path = 'models/'\n",
    "with tf.name_scope('Loss'):\n",
    "    # Minimize error using cross entropy\n",
    "    cost = tf.reduce_mean(-tf.reduce_sum(y*tf.log(model_relu_drop+1e-9), reduction_indices=1))\n",
    "with tf.name_scope('Accuracy'):\n",
    "    # Accuracy\n",
    "    accuracy = evaluate(model_relu_drop, y)\n",
    "with tf.name_scope('Adam'):\n",
    "    # Adam Optimizer\n",
    "    optimizer = tf.train.AdamOptimizer(learning_rate).minimize(cost)\n",
    "    \n",
    "# Initializing the variables\n",
    "init = tf.global_variables_initializer()\n",
    "# Create a summary to monitor cost tensor\n",
    "tf.summary.scalar(\"Loss\", cost)\n",
    "# Create a summary to monitor accuracy tensor\n",
    "tf.summary.scalar(\"Accuracy\", accuracy)\n",
    "# Merge all summaries into a single op\n",
    "merged_summary_op = tf.summary.merge_all()    \n",
    "\n",
    "print(\"***Training with optimal paramiters***\")\n",
    "t0 = time.time()\n",
    "train(learning_rate, training_epochs, batch_size, cost, optimizer)\n",
    "print(\"Time taken: \",time.time()-t0)"
   ]
  },
  {
   "cell_type": "markdown",
   "metadata": {
    "collapsed": true
   },
   "source": [
    "We finally reached the 99.11% accuracy that we were seeking thanks to the tuning of the parameters and by introducing training optimizations like relu activation and the dropout on fully connected layers (even though this last optmization didn't help much)."
   ]
  }
 ],
 "metadata": {
  "anaconda-cloud": {},
  "kernelspec": {
   "display_name": "Python 3",
   "language": "python",
   "name": "python3"
  },
  "language_info": {
   "codemirror_mode": {
    "name": "ipython",
    "version": 3
   },
   "file_extension": ".py",
   "mimetype": "text/x-python",
   "name": "python",
   "nbconvert_exporter": "python",
   "pygments_lexer": "ipython3",
   "version": "3.5.3"
  },
  "widgets": {
   "state": {},
   "version": "1.1.2"
  }
 },
 "nbformat": 4,
 "nbformat_minor": 1
}
